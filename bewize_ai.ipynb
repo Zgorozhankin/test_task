{
  "nbformat": 4,
  "nbformat_minor": 0,
  "metadata": {
    "colab": {
      "provenance": []
    },
    "kernelspec": {
      "name": "python3",
      "display_name": "Python 3"
    },
    "language_info": {
      "name": "python"
    }
  },
  "cells": [
    {
      "cell_type": "markdown",
      "source": [
        "#Тестовое задание в Bewise.ai\n",
        "Горожанкин Егор"
      ],
      "metadata": {
        "id": "BHL7W8ccWjUb"
      }
    },
    {
      "cell_type": "markdown",
      "source": [
        "Для данной работы было использована библиотека Spacy, так как она показала лучший результат для обработки spech recognition text"
      ],
      "metadata": {
        "id": "gWVNRrK3W3Gc"
      }
    },
    {
      "cell_type": "code",
      "source": [
        "!pip install -U pip setuptools wheel\n",
        "!pip install -U spacy"
      ],
      "metadata": {
        "id": "7Vwlmd4IBRdy",
        "colab": {
          "base_uri": "https://localhost:8080/"
        },
        "outputId": "e9c8579a-14f0-4632-a422-89797ca9719d"
      },
      "execution_count": 1,
      "outputs": [
        {
          "output_type": "stream",
          "name": "stdout",
          "text": [
            "Looking in indexes: https://pypi.org/simple, https://us-python.pkg.dev/colab-wheels/public/simple/\n",
            "Requirement already satisfied: pip in /usr/local/lib/python3.7/dist-packages (22.2.2)\n",
            "Requirement already satisfied: setuptools in /usr/local/lib/python3.7/dist-packages (65.3.0)\n",
            "Requirement already satisfied: wheel in /usr/local/lib/python3.7/dist-packages (0.37.1)\n",
            "\u001b[33mWARNING: Running pip as the 'root' user can result in broken permissions and conflicting behaviour with the system package manager. It is recommended to use a virtual environment instead: https://pip.pypa.io/warnings/venv\u001b[0m\u001b[33m\n",
            "\u001b[0mLooking in indexes: https://pypi.org/simple, https://us-python.pkg.dev/colab-wheels/public/simple/\n",
            "Requirement already satisfied: spacy in /usr/local/lib/python3.7/dist-packages (3.4.1)\n",
            "Requirement already satisfied: pathy>=0.3.5 in /usr/local/lib/python3.7/dist-packages (from spacy) (0.6.2)\n",
            "Requirement already satisfied: wasabi<1.1.0,>=0.9.1 in /usr/local/lib/python3.7/dist-packages (from spacy) (0.10.1)\n",
            "Requirement already satisfied: tqdm<5.0.0,>=4.38.0 in /usr/local/lib/python3.7/dist-packages (from spacy) (4.64.0)\n",
            "Requirement already satisfied: murmurhash<1.1.0,>=0.28.0 in /usr/local/lib/python3.7/dist-packages (from spacy) (1.0.8)\n",
            "Requirement already satisfied: jinja2 in /usr/local/lib/python3.7/dist-packages (from spacy) (2.11.3)\n",
            "Requirement already satisfied: preshed<3.1.0,>=3.0.2 in /usr/local/lib/python3.7/dist-packages (from spacy) (3.0.7)\n",
            "Requirement already satisfied: packaging>=20.0 in /usr/local/lib/python3.7/dist-packages (from spacy) (21.3)\n",
            "Requirement already satisfied: requests<3.0.0,>=2.13.0 in /usr/local/lib/python3.7/dist-packages (from spacy) (2.23.0)\n",
            "Requirement already satisfied: setuptools in /usr/local/lib/python3.7/dist-packages (from spacy) (65.3.0)\n",
            "Requirement already satisfied: catalogue<2.1.0,>=2.0.6 in /usr/local/lib/python3.7/dist-packages (from spacy) (2.0.8)\n",
            "Requirement already satisfied: langcodes<4.0.0,>=3.2.0 in /usr/local/lib/python3.7/dist-packages (from spacy) (3.3.0)\n",
            "Requirement already satisfied: cymem<2.1.0,>=2.0.2 in /usr/local/lib/python3.7/dist-packages (from spacy) (2.0.6)\n",
            "Requirement already satisfied: pydantic!=1.8,!=1.8.1,<1.10.0,>=1.7.4 in /usr/local/lib/python3.7/dist-packages (from spacy) (1.9.2)\n",
            "Requirement already satisfied: spacy-legacy<3.1.0,>=3.0.9 in /usr/local/lib/python3.7/dist-packages (from spacy) (3.0.10)\n",
            "Requirement already satisfied: srsly<3.0.0,>=2.4.3 in /usr/local/lib/python3.7/dist-packages (from spacy) (2.4.4)\n",
            "Requirement already satisfied: thinc<8.2.0,>=8.1.0 in /usr/local/lib/python3.7/dist-packages (from spacy) (8.1.0)\n",
            "Requirement already satisfied: spacy-loggers<2.0.0,>=1.0.0 in /usr/local/lib/python3.7/dist-packages (from spacy) (1.0.3)\n",
            "Requirement already satisfied: typer<0.5.0,>=0.3.0 in /usr/local/lib/python3.7/dist-packages (from spacy) (0.4.2)\n",
            "Requirement already satisfied: numpy>=1.15.0 in /usr/local/lib/python3.7/dist-packages (from spacy) (1.21.6)\n",
            "Requirement already satisfied: typing-extensions<4.2.0,>=3.7.4 in /usr/local/lib/python3.7/dist-packages (from spacy) (4.1.1)\n",
            "Requirement already satisfied: zipp>=0.5 in /usr/local/lib/python3.7/dist-packages (from catalogue<2.1.0,>=2.0.6->spacy) (3.8.1)\n",
            "Requirement already satisfied: pyparsing!=3.0.5,>=2.0.2 in /usr/local/lib/python3.7/dist-packages (from packaging>=20.0->spacy) (3.0.9)\n",
            "Requirement already satisfied: smart-open<6.0.0,>=5.2.1 in /usr/local/lib/python3.7/dist-packages (from pathy>=0.3.5->spacy) (5.2.1)\n",
            "Requirement already satisfied: idna<3,>=2.5 in /usr/local/lib/python3.7/dist-packages (from requests<3.0.0,>=2.13.0->spacy) (2.10)\n",
            "Requirement already satisfied: certifi>=2017.4.17 in /usr/local/lib/python3.7/dist-packages (from requests<3.0.0,>=2.13.0->spacy) (2022.6.15)\n",
            "Requirement already satisfied: chardet<4,>=3.0.2 in /usr/local/lib/python3.7/dist-packages (from requests<3.0.0,>=2.13.0->spacy) (3.0.4)\n",
            "Requirement already satisfied: urllib3!=1.25.0,!=1.25.1,<1.26,>=1.21.1 in /usr/local/lib/python3.7/dist-packages (from requests<3.0.0,>=2.13.0->spacy) (1.24.3)\n",
            "Requirement already satisfied: blis<0.8.0,>=0.7.8 in /usr/local/lib/python3.7/dist-packages (from thinc<8.2.0,>=8.1.0->spacy) (0.7.8)\n",
            "Requirement already satisfied: click<9.0.0,>=7.1.1 in /usr/local/lib/python3.7/dist-packages (from typer<0.5.0,>=0.3.0->spacy) (7.1.2)\n",
            "Requirement already satisfied: MarkupSafe>=0.23 in /usr/local/lib/python3.7/dist-packages (from jinja2->spacy) (2.0.1)\n",
            "\u001b[33mWARNING: Running pip as the 'root' user can result in broken permissions and conflicting behaviour with the system package manager. It is recommended to use a virtual environment instead: https://pip.pypa.io/warnings/venv\u001b[0m\u001b[33m\n",
            "\u001b[0m"
          ]
        }
      ]
    },
    {
      "cell_type": "markdown",
      "source": [
        "Так как в данном тексте не учитывается регистр слов, то потребовалось дополнительно капитализировать имена собственные."
      ],
      "metadata": {
        "id": "MCsTUkpZXJg9"
      }
    },
    {
      "cell_type": "code",
      "source": [
        "!git clone https://github.com/Raven-SL/ru-pnames-list.git"
      ],
      "metadata": {
        "id": "Av8avC4FbWU9",
        "colab": {
          "base_uri": "https://localhost:8080/"
        },
        "outputId": "2b9b146b-77ff-4818-9e18-936770f4f2d9"
      },
      "execution_count": 2,
      "outputs": [
        {
          "output_type": "stream",
          "name": "stdout",
          "text": [
            "fatal: destination path 'ru-pnames-list' already exists and is not an empty directory.\n"
          ]
        }
      ]
    },
    {
      "cell_type": "code",
      "source": [
        "import spacy\n",
        "import csv\n",
        "import pandas\n"
      ],
      "metadata": {
        "id": "U6b3OErz4DQG"
      },
      "execution_count": 3,
      "outputs": []
    },
    {
      "cell_type": "markdown",
      "source": [
        "Импорт тестового файла осуществляется при помощи google drive. Для подгрузки другого файла измените путь к нему."
      ],
      "metadata": {
        "id": "WYg2pCdyXjJ6"
      }
    },
    {
      "cell_type": "code",
      "source": [
        "from google.colab import drive\n",
        "drive.mount('/content/drive')\n",
        "df = pandas.read_csv('/content/drive/MyDrive/test_data.csv')\n",
        "nlp = spacy.load(\"ru_core_news_lg\")\n",
        "df"
      ],
      "metadata": {
        "colab": {
          "base_uri": "https://localhost:8080/",
          "height": 441
        },
        "id": "v2_c3bRZ46wC",
        "outputId": "34a9abaf-0135-4fb7-c1d3-524f2109f93d"
      },
      "execution_count": 4,
      "outputs": [
        {
          "output_type": "stream",
          "name": "stdout",
          "text": [
            "Drive already mounted at /content/drive; to attempt to forcibly remount, call drive.mount(\"/content/drive\", force_remount=True).\n"
          ]
        },
        {
          "output_type": "execute_result",
          "data": {
            "text/plain": [
              "     dlg_id  line_n     role  \\\n",
              "0         0       0   client   \n",
              "1         0       1  manager   \n",
              "2         0       2   client   \n",
              "3         0       3  manager   \n",
              "4         0       4   client   \n",
              "..      ...     ...      ...   \n",
              "475       5     138  manager   \n",
              "476       5     139  manager   \n",
              "477       5     140   client   \n",
              "478       5     141   client   \n",
              "479       5     142  manager   \n",
              "\n",
              "                                                  text  \n",
              "0                                                 Алло  \n",
              "1                                    Алло здравствуйте  \n",
              "2                                          Добрый день  \n",
              "3    Меня зовут ангелина компания диджитал бизнес з...  \n",
              "4                                                  Ага  \n",
              "..                                                 ...  \n",
              "475  По поводу виджетов и с ними уже обсудите конкр...  \n",
              "476  Все я вам высылаю счет и с вами на связи если ...  \n",
              "477                                    Спасибо спасибо  \n",
              "478     Да да тогда созвонимся ага спасибо вам давайте  \n",
              "479                     Ну до свидания хорошего вечера  \n",
              "\n",
              "[480 rows x 4 columns]"
            ],
            "text/html": [
              "\n",
              "  <div id=\"df-56a83899-4518-4bc6-94a6-65708a5a2b12\">\n",
              "    <div class=\"colab-df-container\">\n",
              "      <div>\n",
              "<style scoped>\n",
              "    .dataframe tbody tr th:only-of-type {\n",
              "        vertical-align: middle;\n",
              "    }\n",
              "\n",
              "    .dataframe tbody tr th {\n",
              "        vertical-align: top;\n",
              "    }\n",
              "\n",
              "    .dataframe thead th {\n",
              "        text-align: right;\n",
              "    }\n",
              "</style>\n",
              "<table border=\"1\" class=\"dataframe\">\n",
              "  <thead>\n",
              "    <tr style=\"text-align: right;\">\n",
              "      <th></th>\n",
              "      <th>dlg_id</th>\n",
              "      <th>line_n</th>\n",
              "      <th>role</th>\n",
              "      <th>text</th>\n",
              "    </tr>\n",
              "  </thead>\n",
              "  <tbody>\n",
              "    <tr>\n",
              "      <th>0</th>\n",
              "      <td>0</td>\n",
              "      <td>0</td>\n",
              "      <td>client</td>\n",
              "      <td>Алло</td>\n",
              "    </tr>\n",
              "    <tr>\n",
              "      <th>1</th>\n",
              "      <td>0</td>\n",
              "      <td>1</td>\n",
              "      <td>manager</td>\n",
              "      <td>Алло здравствуйте</td>\n",
              "    </tr>\n",
              "    <tr>\n",
              "      <th>2</th>\n",
              "      <td>0</td>\n",
              "      <td>2</td>\n",
              "      <td>client</td>\n",
              "      <td>Добрый день</td>\n",
              "    </tr>\n",
              "    <tr>\n",
              "      <th>3</th>\n",
              "      <td>0</td>\n",
              "      <td>3</td>\n",
              "      <td>manager</td>\n",
              "      <td>Меня зовут ангелина компания диджитал бизнес з...</td>\n",
              "    </tr>\n",
              "    <tr>\n",
              "      <th>4</th>\n",
              "      <td>0</td>\n",
              "      <td>4</td>\n",
              "      <td>client</td>\n",
              "      <td>Ага</td>\n",
              "    </tr>\n",
              "    <tr>\n",
              "      <th>...</th>\n",
              "      <td>...</td>\n",
              "      <td>...</td>\n",
              "      <td>...</td>\n",
              "      <td>...</td>\n",
              "    </tr>\n",
              "    <tr>\n",
              "      <th>475</th>\n",
              "      <td>5</td>\n",
              "      <td>138</td>\n",
              "      <td>manager</td>\n",
              "      <td>По поводу виджетов и с ними уже обсудите конкр...</td>\n",
              "    </tr>\n",
              "    <tr>\n",
              "      <th>476</th>\n",
              "      <td>5</td>\n",
              "      <td>139</td>\n",
              "      <td>manager</td>\n",
              "      <td>Все я вам высылаю счет и с вами на связи если ...</td>\n",
              "    </tr>\n",
              "    <tr>\n",
              "      <th>477</th>\n",
              "      <td>5</td>\n",
              "      <td>140</td>\n",
              "      <td>client</td>\n",
              "      <td>Спасибо спасибо</td>\n",
              "    </tr>\n",
              "    <tr>\n",
              "      <th>478</th>\n",
              "      <td>5</td>\n",
              "      <td>141</td>\n",
              "      <td>client</td>\n",
              "      <td>Да да тогда созвонимся ага спасибо вам давайте</td>\n",
              "    </tr>\n",
              "    <tr>\n",
              "      <th>479</th>\n",
              "      <td>5</td>\n",
              "      <td>142</td>\n",
              "      <td>manager</td>\n",
              "      <td>Ну до свидания хорошего вечера</td>\n",
              "    </tr>\n",
              "  </tbody>\n",
              "</table>\n",
              "<p>480 rows × 4 columns</p>\n",
              "</div>\n",
              "      <button class=\"colab-df-convert\" onclick=\"convertToInteractive('df-56a83899-4518-4bc6-94a6-65708a5a2b12')\"\n",
              "              title=\"Convert this dataframe to an interactive table.\"\n",
              "              style=\"display:none;\">\n",
              "        \n",
              "  <svg xmlns=\"http://www.w3.org/2000/svg\" height=\"24px\"viewBox=\"0 0 24 24\"\n",
              "       width=\"24px\">\n",
              "    <path d=\"M0 0h24v24H0V0z\" fill=\"none\"/>\n",
              "    <path d=\"M18.56 5.44l.94 2.06.94-2.06 2.06-.94-2.06-.94-.94-2.06-.94 2.06-2.06.94zm-11 1L8.5 8.5l.94-2.06 2.06-.94-2.06-.94L8.5 2.5l-.94 2.06-2.06.94zm10 10l.94 2.06.94-2.06 2.06-.94-2.06-.94-.94-2.06-.94 2.06-2.06.94z\"/><path d=\"M17.41 7.96l-1.37-1.37c-.4-.4-.92-.59-1.43-.59-.52 0-1.04.2-1.43.59L10.3 9.45l-7.72 7.72c-.78.78-.78 2.05 0 2.83L4 21.41c.39.39.9.59 1.41.59.51 0 1.02-.2 1.41-.59l7.78-7.78 2.81-2.81c.8-.78.8-2.07 0-2.86zM5.41 20L4 18.59l7.72-7.72 1.47 1.35L5.41 20z\"/>\n",
              "  </svg>\n",
              "      </button>\n",
              "      \n",
              "  <style>\n",
              "    .colab-df-container {\n",
              "      display:flex;\n",
              "      flex-wrap:wrap;\n",
              "      gap: 12px;\n",
              "    }\n",
              "\n",
              "    .colab-df-convert {\n",
              "      background-color: #E8F0FE;\n",
              "      border: none;\n",
              "      border-radius: 50%;\n",
              "      cursor: pointer;\n",
              "      display: none;\n",
              "      fill: #1967D2;\n",
              "      height: 32px;\n",
              "      padding: 0 0 0 0;\n",
              "      width: 32px;\n",
              "    }\n",
              "\n",
              "    .colab-df-convert:hover {\n",
              "      background-color: #E2EBFA;\n",
              "      box-shadow: 0px 1px 2px rgba(60, 64, 67, 0.3), 0px 1px 3px 1px rgba(60, 64, 67, 0.15);\n",
              "      fill: #174EA6;\n",
              "    }\n",
              "\n",
              "    [theme=dark] .colab-df-convert {\n",
              "      background-color: #3B4455;\n",
              "      fill: #D2E3FC;\n",
              "    }\n",
              "\n",
              "    [theme=dark] .colab-df-convert:hover {\n",
              "      background-color: #434B5C;\n",
              "      box-shadow: 0px 1px 3px 1px rgba(0, 0, 0, 0.15);\n",
              "      filter: drop-shadow(0px 1px 2px rgba(0, 0, 0, 0.3));\n",
              "      fill: #FFFFFF;\n",
              "    }\n",
              "  </style>\n",
              "\n",
              "      <script>\n",
              "        const buttonEl =\n",
              "          document.querySelector('#df-56a83899-4518-4bc6-94a6-65708a5a2b12 button.colab-df-convert');\n",
              "        buttonEl.style.display =\n",
              "          google.colab.kernel.accessAllowed ? 'block' : 'none';\n",
              "\n",
              "        async function convertToInteractive(key) {\n",
              "          const element = document.querySelector('#df-56a83899-4518-4bc6-94a6-65708a5a2b12');\n",
              "          const dataTable =\n",
              "            await google.colab.kernel.invokeFunction('convertToInteractive',\n",
              "                                                     [key], {});\n",
              "          if (!dataTable) return;\n",
              "\n",
              "          const docLinkHtml = 'Like what you see? Visit the ' +\n",
              "            '<a target=\"_blank\" href=https://colab.research.google.com/notebooks/data_table.ipynb>data table notebook</a>'\n",
              "            + ' to learn more about interactive tables.';\n",
              "          element.innerHTML = '';\n",
              "          dataTable['output_type'] = 'display_data';\n",
              "          await google.colab.output.renderOutput(dataTable, element);\n",
              "          const docLink = document.createElement('div');\n",
              "          docLink.innerHTML = docLinkHtml;\n",
              "          element.appendChild(docLink);\n",
              "        }\n",
              "      </script>\n",
              "    </div>\n",
              "  </div>\n",
              "  "
            ]
          },
          "metadata": {},
          "execution_count": 4
        }
      ]
    },
    {
      "cell_type": "markdown",
      "source": [
        "Функция для получения словаря имен, где ключом является первая буква. Это должно ускорить поиск слов в словаре."
      ],
      "metadata": {
        "id": "CeOe77qiX8i5"
      }
    },
    {
      "cell_type": "code",
      "source": [
        "def get_name_dict():\n",
        "    names_list = {}\n",
        "    female_file = open('/content/ru-pnames-list/lists/female_names_rus.txt')\n",
        "    for i in female_file:\n",
        "        if len(i) == 1:\n",
        "            break\n",
        "        now = i.lower()[:-1]\n",
        "        if names_list.get(now[0]) is None:\n",
        "            names_list[now[0]] = [now]\n",
        "        else:\n",
        "            names_list[now[0]].append(now)\n",
        "\n",
        "    male_file = open('/content/ru-pnames-list/lists/male_names_rus.txt')\n",
        "    for i in male_file:\n",
        "        if len(i) == 1:\n",
        "            break\n",
        "        now = i.lower()[:-1]\n",
        "        if names_list.get(now[0]) is None:\n",
        "            names_list[now[0]] = [now]\n",
        "        else:\n",
        "            names_list[now[0]].append(now)\n",
        "    return names_list"
      ],
      "metadata": {
        "id": "O3Hgv0We7dPf"
      },
      "execution_count": 5,
      "outputs": []
    },
    {
      "cell_type": "markdown",
      "source": [
        "Так как для данного задания не особо требуются реплики клиента, то оставлены лишь реплики менеджера."
      ],
      "metadata": {
        "id": "nSUFDgUIYJT-"
      }
    },
    {
      "cell_type": "code",
      "source": [
        "# получение текста менеджера из диалога n\n",
        "def get_manager_text_in_dialog_n(df, n):\n",
        "    names_dict = get_name_dict()\n",
        "    temp_data = df[df['dlg_id'] == n][df['role'] == 'manager']['text'].values\n",
        "    res = []\n",
        "    for sentence in temp_data:\n",
        "        for word in sentence.split():\n",
        "            if word[0] in names_dict.keys() and word in names_dict[word[0]]:\n",
        "                sentence = sentence.replace(word, word.capitalize())\n",
        "        res.append(sentence)\n",
        "    return res"
      ],
      "metadata": {
        "id": "x6Ys3nfo7wPY"
      },
      "execution_count": 6,
      "outputs": []
    },
    {
      "cell_type": "markdown",
      "source": [
        "Для поиска названия компания стандартные методы извлечения сущностей не работали (а датасета для обучения модели нет), то были выбраны слова, определяющие разговор о самой компании (из логики, что если было произнесено слово \"компания\", то должно и прозвучать название). Далее добавляется первое слово, а потом идет добавление, пока не встретится глагол или наречие."
      ],
      "metadata": {
        "id": "5ZeSB_qVYet9"
      }
    },
    {
      "cell_type": "code",
      "source": [
        "company_word_list = 'компания организация ооо стартап фирма ип'.split()\n",
        "def find_company_name(text):\n",
        "    doc = nlp(text)\n",
        "    check = False\n",
        "    res = ''\n",
        "    for token in doc:\n",
        "        if token.lemma_ in company_word_list:\n",
        "            check = True\n",
        "            continue\n",
        "        if check:\n",
        "            if res == '':\n",
        "                res = token.text\n",
        "            elif token.pos_ != 'VERB' and token.pos_ != 'ADV': # глагол\n",
        "                res += ' ' + token.text\n",
        "            else:\n",
        "                return res\n",
        "    if res == '':\n",
        "        return None\n",
        "    return res"
      ],
      "metadata": {
        "id": "ZNAQH6PYmVXn"
      },
      "execution_count": 7,
      "outputs": []
    },
    {
      "cell_type": "markdown",
      "source": [
        "Извлечение имен (после их капитализации) работает хорошо, но требуется определить, идет ли разговор о клиенте или это представляется менеджер. Для этого определяем, в каком лице говорятся соседние слова, и если встречается первое, то это и есть менеджер. В противном случае продолжаем просматривать текст."
      ],
      "metadata": {
        "id": "w7Xe62NwZiUt"
      }
    },
    {
      "cell_type": "code",
      "source": [
        "def find_manager_name(doc):\n",
        "    ents_list = []\n",
        "    for token in doc.ents:\n",
        "        ents_list.append([token.start_char, token.text])\n",
        "    now_in_ents_list = 0\n",
        "    check = False\n",
        "    for token in doc:\n",
        "        if 'Person=First' in token.morph:\n",
        "            if now_in_ents_list < len(ents_list):\n",
        "                return ents_list[now_in_ents_list][1]\n",
        "            return None\n",
        "        elif 'Person=Second' in token.morph or 'Person=Third' in token.morph:\n",
        "            check = True\n",
        "            now_in_ents_list += 1\n",
        "\n",
        "    if check is False and len(ents_list) > 0:\n",
        "        return ents_list[now_in_ents_list][1]\n",
        "    return None"
      ],
      "metadata": {
        "id": "PGac6Ee5H1sl"
      },
      "execution_count": 8,
      "outputs": []
    },
    {
      "cell_type": "markdown",
      "source": [
        "Для определения приветствия и прощания, аналогично как и с компанией, был взят стэминг самых популярных слов, с которые и будут проверять вхождение в слово. "
      ],
      "metadata": {
        "id": "Due9IZvVaUoR"
      }
    },
    {
      "cell_type": "code",
      "source": [
        "def find_greeting(doc):\n",
        "    greetings_words = 'привет добрый здрав'.split()\n",
        "\n",
        "    for token in doc:\n",
        "        for greetings in greetings_words:\n",
        "            if greetings in token.lemma_:\n",
        "                return True\n",
        "    return None\n",
        "\n"
      ],
      "metadata": {
        "id": "nKcl9cj957VU"
      },
      "execution_count": 9,
      "outputs": []
    },
    {
      "cell_type": "code",
      "source": [
        "def find_farewell(doc):\n",
        "    farawell_words = 'пока свидан всего'.split()\n",
        "\n",
        "    for token in doc:\n",
        "        for farawell in farawell_words:\n",
        "            if farawell in token.lemma_:\n",
        "                return True\n",
        "    return None"
      ],
      "metadata": {
        "id": "Zi6wFmEV6SHl"
      },
      "execution_count": 10,
      "outputs": []
    },
    {
      "cell_type": "markdown",
      "source": [
        "В самом вызове мы проверяем лишь первые и последние 5 реплик, так как в остальном тексте встреча проверяемых сущностей будет нелогично и являться ошибкой оператора.\n",
        "\n",
        "Требование проверяется по логике, что менеджер поздаровался и попрощался (ему не обязательно представляться), так как не совсем точно понятно из тз.\n",
        "\n",
        "Результатом анализа является словарь для каждого диалога со всеми проверяемыми полями."
      ],
      "metadata": {
        "id": "bdxOARP8ao8F"
      }
    },
    {
      "cell_type": "code",
      "source": [
        "data = []\n",
        "data_keys = '''имя менеджера,название компании,приветствие,прощание,реплика с имененем менеджера,требование'''.split(',')\n",
        "lemmatizer = nlp.get_pipe(\"lemmatizer\")\n",
        "    \n",
        "for i in range(0, 6):\n",
        "    temp_dialog = get_manager_text_in_dialog_n(df, i)\n",
        "    temp_dict = {}\n",
        "    for key in data_keys:\n",
        "        temp_dict[key] = ''\n",
        "    \n",
        "    for token in temp_dialog[:5] + temp_dialog[-5:]:\n",
        "        doc = nlp(token)\n",
        "        temp_res = [find_manager_name(doc), find_company_name(doc), find_greeting(doc), find_farewell(doc)]\n",
        "\n",
        "        for iter in range(len(temp_res)):\n",
        "            if temp_dict.get(data_keys[iter]) == '' and temp_res[iter] is not None:\n",
        "                temp_dict[data_keys[iter]] = temp_res[iter]\n",
        "                if iter == 0:\n",
        "                    temp_dict[data_keys[-2]] = token\n",
        "    temp_dict['требование'] = temp_dict['приветствие'] == True and temp_dict['прощание'] == True\n",
        "    data.append(temp_dict)\n",
        "for i in range(len(data)):\n",
        "    print('Диалог ' + str(i))\n",
        "    for key, value in data[i].items():\n",
        "        print(key, ': ', value, sep='')\n",
        "    print()"
      ],
      "metadata": {
        "colab": {
          "base_uri": "https://localhost:8080/"
        },
        "id": "ONgRaJN1Ve2D",
        "outputId": "5599b783-f21d-4742-937b-4fbd1b194bec"
      },
      "execution_count": 11,
      "outputs": [
        {
          "output_type": "stream",
          "name": "stderr",
          "text": [
            "/usr/local/lib/python3.7/dist-packages/ipykernel_launcher.py:4: UserWarning: Boolean Series key will be reindexed to match DataFrame index.\n",
            "  after removing the cwd from sys.path.\n"
          ]
        },
        {
          "output_type": "stream",
          "name": "stdout",
          "text": [
            "Диалог 0\n",
            "имя менеджера: Ангелина\n",
            "название компании: диджитал бизнес\n",
            "приветствие: True\n",
            "прощание: True\n",
            "реплика с имененем менеджера: Меня зовут Ангелина компания диджитал бизнес звоним вам по поводу продления лицензии а мы с серым у вас скоро срок заканчивается\n",
            "требование: True\n",
            "\n",
            "Диалог 1\n",
            "имя менеджера: Ангелина\n",
            "название компании: диджитал бизнес\n",
            "приветствие: True\n",
            "прощание: True\n",
            "реплика с имененем менеджера: Меня зовут Ангелина компания диджитал бизнес звоню вам по поводу продления а мы сели обратила внимание что у вас срок заканчивается\n",
            "требование: True\n",
            "\n",
            "Диалог 2\n",
            "имя менеджера: Ангелина\n",
            "название компании: диджитал бизнес\n",
            "приветствие: True\n",
            "прощание: \n",
            "реплика с имененем менеджера: Меня зовут Ангелина компания диджитал бизнес звоню вам по поводу продления лицензии а мастера мы с вами сотрудничали по видео там\n",
            "требование: False\n",
            "\n",
            "Диалог 3\n",
            "имя менеджера: Алло Дмитрий\n",
            "название компании: китобизнес\n",
            "приветствие: True\n",
            "прощание: True\n",
            "реплика с имененем менеджера: Алло Дмитрий добрый день\n",
            "требование: True\n",
            "\n",
            "Диалог 4\n",
            "имя менеджера: \n",
            "название компании: \n",
            "приветствие: \n",
            "прощание: True\n",
            "реплика с имененем менеджера: \n",
            "требование: False\n",
            "\n",
            "Диалог 5\n",
            "имя менеджера: Анастасия\n",
            "название компании: \n",
            "приветствие: \n",
            "прощание: True\n",
            "реплика с имененем менеджера: Да это Анастасия\n",
            "требование: False\n",
            "\n"
          ]
        }
      ]
    }
  ]
}